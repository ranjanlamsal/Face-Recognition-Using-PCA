{
 "cells": [
  {
   "cell_type": "code",
   "execution_count": 6,
   "id": "045c878b",
   "metadata": {},
   "outputs": [],
   "source": [
    "import cv2\n",
    "import os\n"
   ]
  },
  {
   "cell_type": "code",
   "execution_count": 7,
   "id": "b700886c",
   "metadata": {},
   "outputs": [],
   "source": [
    "face_cascade = cv2.CascadeClassifier(cv2.data.haarcascades + 'haarcascade_frontalface_default.xml')"
   ]
  },
  {
   "cell_type": "code",
   "execution_count": 8,
   "id": "52841cef",
   "metadata": {},
   "outputs": [],
   "source": [
    "image_dir = \"CE Faces Photos\"\n",
    "output_dir = \"CE_Faces_Photos\"\n",
    "os.makedirs(output_dir, exist_ok=True)"
   ]
  },
  {
   "cell_type": "code",
   "execution_count": 9,
   "id": "0203962c",
   "metadata": {},
   "outputs": [],
   "source": [
    "for filename in os.listdir(image_dir):\n",
    "    image_path = os.path.join(image_dir, filename)\n",
    "    output_path = os.path.join(output_dir, filename)\n",
    "    \n",
    "    # Read the image\n",
    "    image = cv2.imread(image_path)\n",
    "    \n",
    "    # Convert the image to grayscale\n",
    "    gray_image = cv2.cvtColor(image, cv2.COLOR_BGR2GRAY)\n",
    "    \n",
    "    # Detect faces in the image\n",
    "    faces = face_cascade.detectMultiScale(gray_image, scaleFactor=1.1, minNeighbors=5, minSize=(30, 30))\n",
    "    \n",
    "    if len(faces) > 0:\n",
    "        # Assume only one face is detected, and crop the region\n",
    "        (x, y, w, h) = faces[0]\n",
    "        cropped_image = image[y:y+h, x:x+w]\n",
    "    else:\n",
    "        # If no face is detected, use the original image\n",
    "        cropped_image = image\n",
    "    \n",
    "    # Save the cropped image\n",
    "    cv2.imwrite(output_path, cropped_image)"
   ]
  },
  {
   "cell_type": "code",
   "execution_count": null,
   "id": "0e706ea6",
   "metadata": {},
   "outputs": [],
   "source": []
  }
 ],
 "metadata": {
  "kernelspec": {
   "display_name": "Python 3 (ipykernel)",
   "language": "python",
   "name": "python3"
  },
  "language_info": {
   "codemirror_mode": {
    "name": "ipython",
    "version": 3
   },
   "file_extension": ".py",
   "mimetype": "text/x-python",
   "name": "python",
   "nbconvert_exporter": "python",
   "pygments_lexer": "ipython3",
   "version": "3.10.6"
  }
 },
 "nbformat": 4,
 "nbformat_minor": 5
}
